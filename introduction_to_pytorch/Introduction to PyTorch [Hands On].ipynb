{
 "cells": [
  {
   "cell_type": "markdown",
   "metadata": {},
   "source": [
    "## Introduction to PyTorch [Hands On]"
   ]
  },
  {
   "cell_type": "markdown",
   "metadata": {},
   "source": [
    "- PyTorch has lots of nice features that can really help us train deep learning models quickly. \n",
    "- We've just walked through a set of examples where we've progressively added more and more nice PyTorch modeles, and relied less and less on our \"manually implemented\" methods in Numpy.\n",
    "- A great way get some hands on experience with each of the great PyTorch modules is to **take them away**. \n",
    "- In this interactive session, we'll work backwards from a nice, concise and simple neural network. At each step I'll take away one nice PyTorch feature, and your job is to re-implement the same algorithm without the feature. This exercise will help build your comfort with the library.  "
   ]
  },
  {
   "cell_type": "markdown",
   "metadata": {},
   "source": [
    "## 0. Imports and Data"
   ]
  },
  {
   "cell_type": "code",
   "execution_count": 7,
   "metadata": {},
   "outputs": [],
   "source": [
    "import numpy as np\n",
    "from matplotlib.pyplot import *\n",
    "\n",
    "import torch\n",
    "from torch import optim\n",
    "from torch import nn"
   ]
  },
  {
   "cell_type": "code",
   "execution_count": 8,
   "metadata": {},
   "outputs": [],
   "source": [
    "# X = (hours sleeping, hours studying), y = Score on test\n",
    "X = torch.tensor(([3,5], [5,1], [10,2], [6,1.5]), dtype=torch.float)\n",
    "y = torch.tensor(([75], [82], [93], [70]), dtype=torch.float)\n",
    "\n",
    "max_values, max_indices = torch.max(X, dim=0) #Normalize Data\n",
    "X = X/max_values\n",
    "y = y/100 #Max test score is 100"
   ]
  },
  {
   "cell_type": "markdown",
   "metadata": {},
   "source": [
    "## 1. Baseline with nn.Sequential"
   ]
  },
  {
   "cell_type": "code",
   "execution_count": 9,
   "metadata": {},
   "outputs": [],
   "source": [
    "inputLayerSize, hiddenLayerSize, outputLayerSize = 2, 3, 1\n",
    "\n",
    "model = nn.Sequential(nn.Linear(inputLayerSize, hiddenLayerSize),\n",
    "                       nn.Sigmoid(), \n",
    "                       nn.Linear(hiddenLayerSize, outputLayerSize),\n",
    "                       nn.Sigmoid())"
   ]
  },
  {
   "cell_type": "code",
   "execution_count": 10,
   "metadata": {},
   "outputs": [],
   "source": [
    "num_iterations = 1000; lr = 1e-2; losses = []\n",
    "\n",
    "opt = optim.SGD(model.parameters(), lr=lr) #pass in the parameters we want to optimize. \n",
    "for i in range(num_iterations):\n",
    "    yhat = model(X)\n",
    "    loss = torch.sum(0.5*(y-yhat)**2)\n",
    "    loss.backward() #Compute Gradients\n",
    "    \n",
    "    opt.step() #Take a gradient descent \"step\", note that we no longer need torch.no_grad() here.\n",
    "    opt.zero_grad()\n",
    "    losses.append(loss.item())"
   ]
  },
  {
   "cell_type": "code",
   "execution_count": 11,
   "metadata": {},
   "outputs": [
    {
     "data": {
      "image/png": "[encoded data removed]",
      "text/plain": [
       "<Figure size 864x432 with 1 Axes>"
      ]
     },
     "metadata": {
      "needs_background": "light"
     },
     "output_type": "display_data"
    }
   ],
   "source": [
    "fig = figure(0, (12,6))\n",
    "plot(losses, linewidth = 3); grid(1); xlabel('iterations'); ylabel('loss');"
   ]
  },
  {
   "cell_type": "markdown",
   "metadata": {},
   "source": [
    "## 2. [Interactive] Create + Train the Same Model Without nn.Sequential"
   ]
  },
  {
   "cell_type": "code",
   "execution_count": null,
   "metadata": {},
   "outputs": [],
   "source": [
    "class Neural_Network_Torch(nn.Module):\n",
    "    def __init__(self, inputLayerSize = 2, outputLayerSize = 1, hiddenLayerSize = 3):        \n",
    "        super().__init__()\n",
    "        #Your Code here, \n",
    "        #self.lin1 = nn.Linear(...\n",
    "\n",
    "        \n",
    "    def forward(self, X):\n",
    "        #Your Code here\n"
   ]
  },
  {
   "cell_type": "code",
   "execution_count": null,
   "metadata": {},
   "outputs": [],
   "source": [
    "NT = Neural_Network_Torch()"
   ]
  },
  {
   "cell_type": "code",
   "execution_count": null,
   "metadata": {},
   "outputs": [],
   "source": [
    "num_iterations = 1000; lr = 1e-2; losses = []\n",
    "\n",
    "opt = optim.SGD(model.parameters(), lr=lr) #pass in the parameters we want to optimize. \n",
    "for i in range(num_iterations):\n",
    "    yhat = model(X)\n",
    "    loss = torch.sum(0.5*(y-yhat)**2)\n",
    "    loss.backward() #Compute Gradients\n",
    "    \n",
    "    opt.step() #Take a gradient descent \"step\", note that we no longer need torch.no_grad() here.\n",
    "    opt.zero_grad()\n",
    "    losses.append(loss.item())"
   ]
  },
  {
   "cell_type": "code",
   "execution_count": null,
   "metadata": {},
   "outputs": [],
   "source": [
    "fig = figure(0, (12,6))\n",
    "plot(losses, linewidth = 3); grid(1); xlabel('iterations'); ylabel('loss');"
   ]
  },
  {
   "cell_type": "markdown",
   "metadata": {},
   "source": [
    "## 3. [Interactive] Train the Same Model Without torch.optim"
   ]
  },
  {
   "cell_type": "code",
   "execution_count": null,
   "metadata": {},
   "outputs": [],
   "source": [
    "num_iterations = 1000; lr = 1e-2; losses = []\n",
    "\n",
    "for i in range(num_iterations):\n",
    "    yhat = NT(X)\n",
    "    loss = torch.sum(0.5*(y-yhat)**2)\n",
    "    loss.backward() #Compute Gradients\n",
    "    \n",
    "    #Your Gradient Descent Code Here\n",
    "    \n",
    "    \n",
    "    losses.append(loss.item())"
   ]
  },
  {
   "cell_type": "code",
   "execution_count": null,
   "metadata": {},
   "outputs": [],
   "source": [
    "fig = figure(0, (12,6))\n",
    "plot(losses, linewidth = 3); grid(1); xlabel('iterations'); ylabel('loss');"
   ]
  },
  {
   "cell_type": "markdown",
   "metadata": {},
   "source": [
    "## 4. [Interactive]  Build and Train the Same Model Without torch.Layers"
   ]
  },
  {
   "cell_type": "code",
   "execution_count": null,
   "metadata": {},
   "outputs": [],
   "source": [
    "class Neural_Network_Torch(nn.Module):\n",
    "    def __init__(self, inputLayerSize = 2, outputLayerSize = 1, hiddenLayerSize = 3):        \n",
    "        super().__init__()\n",
    "        #Your Code Here\n",
    "        #self.W1 = nn.Parameter(...\n",
    "        \n",
    "    def forward(self, X):\n",
    "        #Your Code Here"
   ]
  },
  {
   "cell_type": "code",
   "execution_count": null,
   "metadata": {},
   "outputs": [],
   "source": [
    "NT = Neural_Network_Torch()"
   ]
  },
  {
   "cell_type": "code",
   "execution_count": null,
   "metadata": {},
   "outputs": [],
   "source": [
    "num_iterations = 1000; lr = 1e-2; losses = []\n",
    "\n",
    "for i in range(num_iterations):\n",
    "    yhat = NT(X)\n",
    "    loss = torch.sum(0.5*(y-yhat)**2)\n",
    "    loss.backward() #Compute Gradients\n",
    "    \n",
    "    #Your Gradient Descent Code Here\n",
    "    \n",
    "    \n",
    "    losses.append(loss.item())"
   ]
  },
  {
   "cell_type": "code",
   "execution_count": null,
   "metadata": {},
   "outputs": [],
   "source": [
    "fig = figure(0, (12,6))\n",
    "plot(losses, linewidth = 3); grid(1); xlabel('iterations'); ylabel('loss');"
   ]
  },
  {
   "cell_type": "markdown",
   "metadata": {},
   "source": [
    "## 5. [Interactive] Build and Train the Same Network Without nn.Module"
   ]
  },
  {
   "cell_type": "code",
   "execution_count": null,
   "metadata": {},
   "outputs": [],
   "source": [
    "class Neural_Network_Torch(object):\n",
    "    def __init__(self, inputLayerSize = 2, outputLayerSize = 1, hiddenLayerSize = 3):        \n",
    "        #Your Code Hhere\n",
    "        #self.W1 = torch.randn(...\n",
    "        \n",
    "    def forward(self, X):\n",
    "        #Your Code Here\n",
    "        #self.z2 = torch.mm(...\n",
    "        \n",
    "    def sigmoid(self, z):\n",
    "        #Apply sigmoid activation function to scalar, vector, or matrix\n",
    "        return 1/(1+torch.exp(-z))"
   ]
  },
  {
   "cell_type": "code",
   "execution_count": null,
   "metadata": {},
   "outputs": [],
   "source": [
    "NT = Neural_Network_Torch()"
   ]
  },
  {
   "cell_type": "code",
   "execution_count": null,
   "metadata": {},
   "outputs": [],
   "source": [
    "num_iterations = 1000; lr = 1e-2; losses = []\n",
    "\n",
    "for i in range(num_iterations):\n",
    "    yhat = NT(X)\n",
    "    loss = torch.sum(0.5*(y-yhat)**2)\n",
    "    loss.backward() #Compute Gradients\n",
    "    \n",
    "    #Your Gradient Descent Code Here\n",
    "    \n",
    "    \n",
    "    losses.append(loss.item())"
   ]
  },
  {
   "cell_type": "code",
   "execution_count": null,
   "metadata": {},
   "outputs": [],
   "source": [
    "fig = figure(0, (12,6))\n",
    "plot(losses, linewidth = 3); grid(1); xlabel('iterations'); ylabel('loss');"
   ]
  },
  {
   "cell_type": "markdown",
   "metadata": {},
   "source": [
    "## 6. [Interactive Advanced] Implement Weight Decay Regularization In PyTorch for This Model and Train"
   ]
  },
  {
   "cell_type": "code",
   "execution_count": null,
   "metadata": {},
   "outputs": [],
   "source": []
  },
  {
   "cell_type": "code",
   "execution_count": null,
   "metadata": {},
   "outputs": [],
   "source": []
  }
 ],
 "metadata": {
  "kernelspec": {
   "display_name": "Python 3",
   "language": "python",
   "name": "python3"
  },
  "language_info": {
   "codemirror_mode": {
    "name": "ipython",
    "version": 3
   },
   "file_extension": ".py",
   "mimetype": "text/x-python",
   "name": "python",
   "nbconvert_exporter": "python",
   "pygments_lexer": "ipython3",
   "version": "3.7.4"
  }
 },
 "nbformat": 4,
 "nbformat_minor": 2
}
